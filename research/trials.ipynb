{
 "cells": [
  {
   "cell_type": "markdown",
   "metadata": {},
   "source": [
    "Showing why i used configbox in src/common.py"
   ]
  },
  {
   "cell_type": "code",
   "execution_count": 4,
   "metadata": {},
   "outputs": [],
   "source": [
    "d = {'key':'value', 'key1':'value1'}"
   ]
  },
  {
   "cell_type": "code",
   "execution_count": 5,
   "metadata": {},
   "outputs": [
    {
     "data": {
      "text/plain": [
       "'value'"
      ]
     },
     "execution_count": 5,
     "metadata": {},
     "output_type": "execute_result"
    }
   ],
   "source": [
    "d['key']"
   ]
  },
  {
   "cell_type": "code",
   "execution_count": 6,
   "metadata": {},
   "outputs": [
    {
     "ename": "AttributeError",
     "evalue": "'dict' object has no attribute 'key'",
     "output_type": "error",
     "traceback": [
      "\u001b[1;31m---------------------------------------------------------------------------\u001b[0m",
      "\u001b[1;31mAttributeError\u001b[0m                            Traceback (most recent call last)",
      "Cell \u001b[1;32mIn[6], line 1\u001b[0m\n\u001b[1;32m----> 1\u001b[0m \u001b[43md\u001b[49m\u001b[38;5;241;43m.\u001b[39;49m\u001b[43mkey\u001b[49m\n",
      "\u001b[1;31mAttributeError\u001b[0m: 'dict' object has no attribute 'key'"
     ]
    }
   ],
   "source": [
    "d.key"
   ]
  },
  {
   "cell_type": "code",
   "execution_count": 7,
   "metadata": {},
   "outputs": [],
   "source": [
    "from box import ConfigBox"
   ]
  },
  {
   "cell_type": "code",
   "execution_count": 8,
   "metadata": {},
   "outputs": [],
   "source": [
    "d2 = ConfigBox({'key':'value', 'key1':'value1'})"
   ]
  },
  {
   "cell_type": "code",
   "execution_count": 9,
   "metadata": {},
   "outputs": [
    {
     "data": {
      "text/plain": [
       "ConfigBox({'key': 'value', 'key1': 'value1'})"
      ]
     },
     "execution_count": 9,
     "metadata": {},
     "output_type": "execute_result"
    }
   ],
   "source": [
    "d2    #become configbox type object"
   ]
  },
  {
   "cell_type": "code",
   "execution_count": 10,
   "metadata": {},
   "outputs": [
    {
     "data": {
      "text/plain": [
       "'value'"
      ]
     },
     "execution_count": 10,
     "metadata": {},
     "output_type": "execute_result"
    }
   ],
   "source": [
    "d2.key"
   ]
  },
  {
   "cell_type": "markdown",
   "metadata": {},
   "source": [
    "Showing use of ensure annotations"
   ]
  },
  {
   "cell_type": "code",
   "execution_count": 11,
   "metadata": {},
   "outputs": [],
   "source": [
    "def get_product(x:int, y:int)->int:\n",
    "    return x*y"
   ]
  },
  {
   "cell_type": "code",
   "execution_count": 12,
   "metadata": {},
   "outputs": [
    {
     "data": {
      "text/plain": [
       "8"
      ]
     },
     "execution_count": 12,
     "metadata": {},
     "output_type": "execute_result"
    }
   ],
   "source": [
    "get_product(x=2,y=4)"
   ]
  },
  {
   "cell_type": "code",
   "execution_count": 13,
   "metadata": {},
   "outputs": [
    {
     "data": {
      "text/plain": [
       "'44'"
      ]
     },
     "execution_count": 13,
     "metadata": {},
     "output_type": "execute_result"
    }
   ],
   "source": [
    "get_product(x=2, y='4')"
   ]
  },
  {
   "cell_type": "code",
   "execution_count": 14,
   "metadata": {},
   "outputs": [],
   "source": [
    "from ensure import ensure_annotations"
   ]
  },
  {
   "cell_type": "code",
   "execution_count": 15,
   "metadata": {},
   "outputs": [],
   "source": [
    "@ensure_annotations\n",
    "def get_product(x:int, y:int)->int:\n",
    "    return x*y"
   ]
  },
  {
   "cell_type": "code",
   "execution_count": 16,
   "metadata": {},
   "outputs": [
    {
     "data": {
      "text/plain": [
       "8"
      ]
     },
     "execution_count": 16,
     "metadata": {},
     "output_type": "execute_result"
    }
   ],
   "source": [
    "get_product(2, 4)"
   ]
  },
  {
   "cell_type": "code",
   "execution_count": 17,
   "metadata": {},
   "outputs": [
    {
     "ename": "EnsureError",
     "evalue": "Argument y of type <class 'str'> to <function get_product at 0x0000023E5EBC3920> does not match annotation type <class 'int'>",
     "output_type": "error",
     "traceback": [
      "\u001b[1;31m---------------------------------------------------------------------------\u001b[0m",
      "\u001b[1;31mEnsureError\u001b[0m                               Traceback (most recent call last)",
      "Cell \u001b[1;32mIn[17], line 1\u001b[0m\n\u001b[1;32m----> 1\u001b[0m \u001b[43mget_product\u001b[49m\u001b[43m(\u001b[49m\u001b[43mx\u001b[49m\u001b[38;5;241;43m=\u001b[39;49m\u001b[38;5;241;43m2\u001b[39;49m\u001b[43m,\u001b[49m\u001b[43m \u001b[49m\u001b[43my\u001b[49m\u001b[38;5;241;43m=\u001b[39;49m\u001b[38;5;124;43m'\u001b[39;49m\u001b[38;5;124;43m4\u001b[39;49m\u001b[38;5;124;43m'\u001b[39;49m\u001b[43m)\u001b[49m\n",
      "File \u001b[1;32md:\\Data Science\\Customer Churn Prediction with MLOps\\myenv\\Lib\\site-packages\\ensure\\main.py:845\u001b[0m, in \u001b[0;36mWrappedFunctionReturn.__call__\u001b[1;34m(self, *args, **kwargs)\u001b[0m\n\u001b[0;32m    840\u001b[0m     \u001b[38;5;28;01mif\u001b[39;00m \u001b[38;5;129;01mnot\u001b[39;00m \u001b[38;5;28misinstance\u001b[39m(value, templ):\n\u001b[0;32m    841\u001b[0m         msg \u001b[38;5;241m=\u001b[39m (\n\u001b[0;32m    842\u001b[0m             \u001b[38;5;124m\"\u001b[39m\u001b[38;5;124mArgument \u001b[39m\u001b[38;5;132;01m{arg}\u001b[39;00m\u001b[38;5;124m of type \u001b[39m\u001b[38;5;132;01m{valt}\u001b[39;00m\u001b[38;5;124m to \u001b[39m\u001b[38;5;132;01m{f}\u001b[39;00m\u001b[38;5;124m \u001b[39m\u001b[38;5;124m\"\u001b[39m\n\u001b[0;32m    843\u001b[0m             \u001b[38;5;124m\"\u001b[39m\u001b[38;5;124mdoes not match annotation type \u001b[39m\u001b[38;5;132;01m{t}\u001b[39;00m\u001b[38;5;124m\"\u001b[39m\n\u001b[0;32m    844\u001b[0m         )\n\u001b[1;32m--> 845\u001b[0m         \u001b[38;5;28;01mraise\u001b[39;00m EnsureError(msg\u001b[38;5;241m.\u001b[39mformat(\n\u001b[0;32m    846\u001b[0m             arg\u001b[38;5;241m=\u001b[39marg, f\u001b[38;5;241m=\u001b[39m\u001b[38;5;28mself\u001b[39m\u001b[38;5;241m.\u001b[39mf, t\u001b[38;5;241m=\u001b[39mtempl, valt\u001b[38;5;241m=\u001b[39m\u001b[38;5;28mtype\u001b[39m(value)\n\u001b[0;32m    847\u001b[0m         ))\n\u001b[0;32m    849\u001b[0m return_val \u001b[38;5;241m=\u001b[39m \u001b[38;5;28mself\u001b[39m\u001b[38;5;241m.\u001b[39mf(\u001b[38;5;241m*\u001b[39margs, \u001b[38;5;241m*\u001b[39m\u001b[38;5;241m*\u001b[39mkwargs)\n\u001b[0;32m    850\u001b[0m \u001b[38;5;28;01mif\u001b[39;00m \u001b[38;5;129;01mnot\u001b[39;00m \u001b[38;5;28misinstance\u001b[39m(return_val, \u001b[38;5;28mself\u001b[39m\u001b[38;5;241m.\u001b[39mreturn_templ):\n",
      "\u001b[1;31mEnsureError\u001b[0m: Argument y of type <class 'str'> to <function get_product at 0x0000023E5EBC3920> does not match annotation type <class 'int'>"
     ]
    }
   ],
   "source": [
    "get_product(x=2, y='4')"
   ]
  },
  {
   "cell_type": "code",
   "execution_count": 4,
   "metadata": {},
   "outputs": [],
   "source": [
    "import pandas as pd"
   ]
  },
  {
   "cell_type": "code",
   "execution_count": 8,
   "metadata": {},
   "outputs": [],
   "source": [
    "df = pd.read_csv(r'D:\\Data Science\\Customer Churn Prediction with MLOps\\artifacts\\data_transformation\\train.csv')"
   ]
  },
  {
   "cell_type": "code",
   "execution_count": 9,
   "metadata": {},
   "outputs": [
    {
     "data": {
      "text/html": [
       "<div>\n",
       "<style scoped>\n",
       "    .dataframe tbody tr th:only-of-type {\n",
       "        vertical-align: middle;\n",
       "    }\n",
       "\n",
       "    .dataframe tbody tr th {\n",
       "        vertical-align: top;\n",
       "    }\n",
       "\n",
       "    .dataframe thead th {\n",
       "        text-align: right;\n",
       "    }\n",
       "</style>\n",
       "<table border=\"1\" class=\"dataframe\">\n",
       "  <thead>\n",
       "    <tr style=\"text-align: right;\">\n",
       "      <th></th>\n",
       "      <th>num__tenure</th>\n",
       "      <th>num__MonthlyCharges</th>\n",
       "      <th>num__TotalCharges</th>\n",
       "      <th>bin__gender_Male</th>\n",
       "      <th>bin__Partner_Yes</th>\n",
       "      <th>bin__Dependents_Yes</th>\n",
       "      <th>bin__PhoneService_Yes</th>\n",
       "      <th>bin__PaperlessBilling_Yes</th>\n",
       "      <th>multi__MultipleLines_No phone service</th>\n",
       "      <th>multi__MultipleLines_Yes</th>\n",
       "      <th>...</th>\n",
       "      <th>multi__StreamingTV_No internet service</th>\n",
       "      <th>multi__StreamingTV_Yes</th>\n",
       "      <th>multi__StreamingMovies_No internet service</th>\n",
       "      <th>multi__StreamingMovies_Yes</th>\n",
       "      <th>multi__Contract_One year</th>\n",
       "      <th>multi__Contract_Two year</th>\n",
       "      <th>multi__PaymentMethod_Credit card (automatic)</th>\n",
       "      <th>multi__PaymentMethod_Electronic check</th>\n",
       "      <th>multi__PaymentMethod_Mailed check</th>\n",
       "      <th>Churn</th>\n",
       "    </tr>\n",
       "  </thead>\n",
       "  <tbody>\n",
       "    <tr>\n",
       "      <th>0</th>\n",
       "      <td>-1.277445</td>\n",
       "      <td>-1.311546</td>\n",
       "      <td>-0.996251</td>\n",
       "      <td>1.0</td>\n",
       "      <td>0.0</td>\n",
       "      <td>1.0</td>\n",
       "      <td>0.0</td>\n",
       "      <td>1.0</td>\n",
       "      <td>1.0</td>\n",
       "      <td>0.0</td>\n",
       "      <td>...</td>\n",
       "      <td>0.0</td>\n",
       "      <td>0.0</td>\n",
       "      <td>0.0</td>\n",
       "      <td>0.0</td>\n",
       "      <td>0.0</td>\n",
       "      <td>0.0</td>\n",
       "      <td>0.0</td>\n",
       "      <td>1.0</td>\n",
       "      <td>0.0</td>\n",
       "      <td>NaN</td>\n",
       "    </tr>\n",
       "    <tr>\n",
       "      <th>1</th>\n",
       "      <td>-1.033122</td>\n",
       "      <td>0.345265</td>\n",
       "      <td>-0.775643</td>\n",
       "      <td>0.0</td>\n",
       "      <td>0.0</td>\n",
       "      <td>0.0</td>\n",
       "      <td>1.0</td>\n",
       "      <td>1.0</td>\n",
       "      <td>0.0</td>\n",
       "      <td>0.0</td>\n",
       "      <td>...</td>\n",
       "      <td>0.0</td>\n",
       "      <td>0.0</td>\n",
       "      <td>0.0</td>\n",
       "      <td>0.0</td>\n",
       "      <td>0.0</td>\n",
       "      <td>0.0</td>\n",
       "      <td>0.0</td>\n",
       "      <td>1.0</td>\n",
       "      <td>0.0</td>\n",
       "      <td>1.0</td>\n",
       "    </tr>\n",
       "    <tr>\n",
       "      <th>2</th>\n",
       "      <td>-1.155283</td>\n",
       "      <td>-1.486035</td>\n",
       "      <td>-0.969674</td>\n",
       "      <td>0.0</td>\n",
       "      <td>0.0</td>\n",
       "      <td>1.0</td>\n",
       "      <td>1.0</td>\n",
       "      <td>1.0</td>\n",
       "      <td>0.0</td>\n",
       "      <td>0.0</td>\n",
       "      <td>...</td>\n",
       "      <td>1.0</td>\n",
       "      <td>0.0</td>\n",
       "      <td>1.0</td>\n",
       "      <td>0.0</td>\n",
       "      <td>0.0</td>\n",
       "      <td>0.0</td>\n",
       "      <td>0.0</td>\n",
       "      <td>0.0</td>\n",
       "      <td>0.0</td>\n",
       "      <td>0.0</td>\n",
       "    </tr>\n",
       "    <tr>\n",
       "      <th>3</th>\n",
       "      <td>-0.137274</td>\n",
       "      <td>0.373516</td>\n",
       "      <td>-0.029432</td>\n",
       "      <td>0.0</td>\n",
       "      <td>0.0</td>\n",
       "      <td>0.0</td>\n",
       "      <td>1.0</td>\n",
       "      <td>1.0</td>\n",
       "      <td>0.0</td>\n",
       "      <td>1.0</td>\n",
       "      <td>...</td>\n",
       "      <td>0.0</td>\n",
       "      <td>0.0</td>\n",
       "      <td>0.0</td>\n",
       "      <td>0.0</td>\n",
       "      <td>0.0</td>\n",
       "      <td>0.0</td>\n",
       "      <td>1.0</td>\n",
       "      <td>0.0</td>\n",
       "      <td>0.0</td>\n",
       "      <td>1.0</td>\n",
       "    </tr>\n",
       "    <tr>\n",
       "      <th>4</th>\n",
       "      <td>-1.196004</td>\n",
       "      <td>0.343603</td>\n",
       "      <td>-0.887912</td>\n",
       "      <td>0.0</td>\n",
       "      <td>0.0</td>\n",
       "      <td>0.0</td>\n",
       "      <td>1.0</td>\n",
       "      <td>1.0</td>\n",
       "      <td>0.0</td>\n",
       "      <td>1.0</td>\n",
       "      <td>...</td>\n",
       "      <td>0.0</td>\n",
       "      <td>0.0</td>\n",
       "      <td>0.0</td>\n",
       "      <td>0.0</td>\n",
       "      <td>0.0</td>\n",
       "      <td>0.0</td>\n",
       "      <td>1.0</td>\n",
       "      <td>0.0</td>\n",
       "      <td>0.0</td>\n",
       "      <td>0.0</td>\n",
       "    </tr>\n",
       "  </tbody>\n",
       "</table>\n",
       "<p>5 rows × 30 columns</p>\n",
       "</div>"
      ],
      "text/plain": [
       "   num__tenure  num__MonthlyCharges  num__TotalCharges  bin__gender_Male  \\\n",
       "0    -1.277445            -1.311546          -0.996251               1.0   \n",
       "1    -1.033122             0.345265          -0.775643               0.0   \n",
       "2    -1.155283            -1.486035          -0.969674               0.0   \n",
       "3    -0.137274             0.373516          -0.029432               0.0   \n",
       "4    -1.196004             0.343603          -0.887912               0.0   \n",
       "\n",
       "   bin__Partner_Yes  bin__Dependents_Yes  bin__PhoneService_Yes  \\\n",
       "0               0.0                  1.0                    0.0   \n",
       "1               0.0                  0.0                    1.0   \n",
       "2               0.0                  1.0                    1.0   \n",
       "3               0.0                  0.0                    1.0   \n",
       "4               0.0                  0.0                    1.0   \n",
       "\n",
       "   bin__PaperlessBilling_Yes  multi__MultipleLines_No phone service  \\\n",
       "0                        1.0                                    1.0   \n",
       "1                        1.0                                    0.0   \n",
       "2                        1.0                                    0.0   \n",
       "3                        1.0                                    0.0   \n",
       "4                        1.0                                    0.0   \n",
       "\n",
       "   multi__MultipleLines_Yes  ...  multi__StreamingTV_No internet service  \\\n",
       "0                       0.0  ...                                     0.0   \n",
       "1                       0.0  ...                                     0.0   \n",
       "2                       0.0  ...                                     1.0   \n",
       "3                       1.0  ...                                     0.0   \n",
       "4                       1.0  ...                                     0.0   \n",
       "\n",
       "   multi__StreamingTV_Yes  multi__StreamingMovies_No internet service  \\\n",
       "0                     0.0                                         0.0   \n",
       "1                     0.0                                         0.0   \n",
       "2                     0.0                                         1.0   \n",
       "3                     0.0                                         0.0   \n",
       "4                     0.0                                         0.0   \n",
       "\n",
       "   multi__StreamingMovies_Yes  multi__Contract_One year  \\\n",
       "0                         0.0                       0.0   \n",
       "1                         0.0                       0.0   \n",
       "2                         0.0                       0.0   \n",
       "3                         0.0                       0.0   \n",
       "4                         0.0                       0.0   \n",
       "\n",
       "   multi__Contract_Two year  multi__PaymentMethod_Credit card (automatic)  \\\n",
       "0                       0.0                                           0.0   \n",
       "1                       0.0                                           0.0   \n",
       "2                       0.0                                           0.0   \n",
       "3                       0.0                                           1.0   \n",
       "4                       0.0                                           1.0   \n",
       "\n",
       "   multi__PaymentMethod_Electronic check  multi__PaymentMethod_Mailed check  \\\n",
       "0                                    1.0                                0.0   \n",
       "1                                    1.0                                0.0   \n",
       "2                                    0.0                                0.0   \n",
       "3                                    0.0                                0.0   \n",
       "4                                    0.0                                0.0   \n",
       "\n",
       "   Churn  \n",
       "0    NaN  \n",
       "1    1.0  \n",
       "2    0.0  \n",
       "3    1.0  \n",
       "4    0.0  \n",
       "\n",
       "[5 rows x 30 columns]"
      ]
     },
     "execution_count": 9,
     "metadata": {},
     "output_type": "execute_result"
    }
   ],
   "source": [
    "df.head()"
   ]
  },
  {
   "cell_type": "code",
   "execution_count": 11,
   "metadata": {},
   "outputs": [
    {
     "name": "stdout",
     "output_type": "stream",
     "text": [
      "Collecting ydata_profiling\n",
      "  Downloading ydata_profiling-4.12.2-py2.py3-none-any.whl.metadata (20 kB)\n",
      "Requirement already satisfied: scipy<1.16,>=1.4.1 in d:\\data science\\customer churn prediction with mlops\\myenv\\lib\\site-packages (from ydata_profiling) (1.15.1)\n",
      "Requirement already satisfied: pandas!=1.4.0,<3,>1.1 in d:\\data science\\customer churn prediction with mlops\\myenv\\lib\\site-packages (from ydata_profiling) (2.2.3)\n",
      "Requirement already satisfied: matplotlib>=3.5 in d:\\data science\\customer churn prediction with mlops\\myenv\\lib\\site-packages (from ydata_profiling) (3.10.0)\n",
      "Requirement already satisfied: pydantic>=2 in d:\\data science\\customer churn prediction with mlops\\myenv\\lib\\site-packages (from ydata_profiling) (2.10.6)\n",
      "Requirement already satisfied: PyYAML<6.1,>=5.0.0 in d:\\data science\\customer churn prediction with mlops\\myenv\\lib\\site-packages (from ydata_profiling) (6.0.2)\n",
      "Requirement already satisfied: jinja2<3.2,>=2.11.1 in d:\\data science\\customer churn prediction with mlops\\myenv\\lib\\site-packages (from ydata_profiling) (3.1.5)\n",
      "Collecting visions<0.8.0,>=0.7.5 (from visions[type_image_path]<0.8.0,>=0.7.5->ydata_profiling)\n",
      "  Using cached visions-0.7.6-py3-none-any.whl.metadata (11 kB)\n",
      "Requirement already satisfied: numpy<2.2,>=1.16.0 in d:\\data science\\customer churn prediction with mlops\\myenv\\lib\\site-packages (from ydata_profiling) (1.26.4)\n",
      "Collecting htmlmin==0.1.12 (from ydata_profiling)\n",
      "  Using cached htmlmin-0.1.12-py3-none-any.whl\n",
      "Collecting phik<0.13,>=0.11.1 (from ydata_profiling)\n",
      "  Using cached phik-0.12.4-cp311-cp311-win_amd64.whl.metadata (5.6 kB)\n",
      "Requirement already satisfied: requests<3,>=2.24.0 in d:\\data science\\customer churn prediction with mlops\\myenv\\lib\\site-packages (from ydata_profiling) (2.32.3)\n",
      "Requirement already satisfied: tqdm<5,>=4.48.2 in d:\\data science\\customer churn prediction with mlops\\myenv\\lib\\site-packages (from ydata_profiling) (4.67.1)\n",
      "Collecting seaborn<0.14,>=0.10.1 (from ydata_profiling)\n",
      "  Using cached seaborn-0.13.2-py3-none-any.whl.metadata (5.4 kB)\n",
      "Collecting multimethod<2,>=1.4 (from ydata_profiling)\n",
      "  Using cached multimethod-1.12-py3-none-any.whl.metadata (9.6 kB)\n",
      "Collecting statsmodels<1,>=0.13.2 (from ydata_profiling)\n",
      "  Downloading statsmodels-0.14.4-cp311-cp311-win_amd64.whl.metadata (9.5 kB)\n",
      "Collecting typeguard<5,>=3 (from ydata_profiling)\n",
      "  Using cached typeguard-4.4.1-py3-none-any.whl.metadata (3.7 kB)\n",
      "Collecting imagehash==4.3.1 (from ydata_profiling)\n",
      "  Using cached ImageHash-4.3.1-py2.py3-none-any.whl.metadata (8.0 kB)\n",
      "Collecting wordcloud>=1.9.3 (from ydata_profiling)\n",
      "  Downloading wordcloud-1.9.4-cp311-cp311-win_amd64.whl.metadata (3.5 kB)\n",
      "Collecting dacite>=1.8 (from ydata_profiling)\n",
      "  Downloading dacite-1.9.2-py3-none-any.whl.metadata (17 kB)\n",
      "Collecting PyWavelets (from imagehash==4.3.1->ydata_profiling)\n",
      "  Downloading pywavelets-1.8.0-cp311-cp311-win_amd64.whl.metadata (9.0 kB)\n",
      "Requirement already satisfied: pillow in d:\\data science\\customer churn prediction with mlops\\myenv\\lib\\site-packages (from imagehash==4.3.1->ydata_profiling) (11.1.0)\n",
      "Requirement already satisfied: MarkupSafe>=2.0 in d:\\data science\\customer churn prediction with mlops\\myenv\\lib\\site-packages (from jinja2<3.2,>=2.11.1->ydata_profiling) (3.0.2)\n",
      "Requirement already satisfied: contourpy>=1.0.1 in d:\\data science\\customer churn prediction with mlops\\myenv\\lib\\site-packages (from matplotlib>=3.5->ydata_profiling) (1.3.1)\n",
      "Requirement already satisfied: cycler>=0.10 in d:\\data science\\customer churn prediction with mlops\\myenv\\lib\\site-packages (from matplotlib>=3.5->ydata_profiling) (0.12.1)\n",
      "Requirement already satisfied: fonttools>=4.22.0 in d:\\data science\\customer churn prediction with mlops\\myenv\\lib\\site-packages (from matplotlib>=3.5->ydata_profiling) (4.55.8)\n",
      "Requirement already satisfied: kiwisolver>=1.3.1 in d:\\data science\\customer churn prediction with mlops\\myenv\\lib\\site-packages (from matplotlib>=3.5->ydata_profiling) (1.4.8)\n",
      "Requirement already satisfied: packaging>=20.0 in d:\\data science\\customer churn prediction with mlops\\myenv\\lib\\site-packages (from matplotlib>=3.5->ydata_profiling) (23.2)\n",
      "Requirement already satisfied: pyparsing>=2.3.1 in d:\\data science\\customer churn prediction with mlops\\myenv\\lib\\site-packages (from matplotlib>=3.5->ydata_profiling) (3.2.1)\n",
      "Requirement already satisfied: python-dateutil>=2.7 in d:\\data science\\customer churn prediction with mlops\\myenv\\lib\\site-packages (from matplotlib>=3.5->ydata_profiling) (2.9.0.post0)\n",
      "Requirement already satisfied: pytz>=2020.1 in d:\\data science\\customer churn prediction with mlops\\myenv\\lib\\site-packages (from pandas!=1.4.0,<3,>1.1->ydata_profiling) (2022.7.1)\n",
      "Requirement already satisfied: tzdata>=2022.7 in d:\\data science\\customer churn prediction with mlops\\myenv\\lib\\site-packages (from pandas!=1.4.0,<3,>1.1->ydata_profiling) (2025.1)\n",
      "Requirement already satisfied: joblib>=0.14.1 in d:\\data science\\customer churn prediction with mlops\\myenv\\lib\\site-packages (from phik<0.13,>=0.11.1->ydata_profiling) (1.4.2)\n",
      "Requirement already satisfied: annotated-types>=0.6.0 in d:\\data science\\customer churn prediction with mlops\\myenv\\lib\\site-packages (from pydantic>=2->ydata_profiling) (0.7.0)\n",
      "Requirement already satisfied: pydantic-core==2.27.2 in d:\\data science\\customer churn prediction with mlops\\myenv\\lib\\site-packages (from pydantic>=2->ydata_profiling) (2.27.2)\n",
      "Requirement already satisfied: typing-extensions>=4.12.2 in d:\\data science\\customer churn prediction with mlops\\myenv\\lib\\site-packages (from pydantic>=2->ydata_profiling) (4.12.2)\n",
      "Requirement already satisfied: charset-normalizer<4,>=2 in d:\\data science\\customer churn prediction with mlops\\myenv\\lib\\site-packages (from requests<3,>=2.24.0->ydata_profiling) (3.4.1)\n",
      "Requirement already satisfied: idna<4,>=2.5 in d:\\data science\\customer churn prediction with mlops\\myenv\\lib\\site-packages (from requests<3,>=2.24.0->ydata_profiling) (3.10)\n",
      "Requirement already satisfied: urllib3<3,>=1.21.1 in d:\\data science\\customer churn prediction with mlops\\myenv\\lib\\site-packages (from requests<3,>=2.24.0->ydata_profiling) (2.3.0)\n",
      "Requirement already satisfied: certifi>=2017.4.17 in d:\\data science\\customer churn prediction with mlops\\myenv\\lib\\site-packages (from requests<3,>=2.24.0->ydata_profiling) (2025.1.31)\n",
      "Collecting patsy>=0.5.6 (from statsmodels<1,>=0.13.2->ydata_profiling)\n",
      "  Downloading patsy-1.0.1-py2.py3-none-any.whl.metadata (3.3 kB)\n",
      "Requirement already satisfied: colorama in d:\\data science\\customer churn prediction with mlops\\myenv\\lib\\site-packages (from tqdm<5,>=4.48.2->ydata_profiling) (0.4.6)\n",
      "Requirement already satisfied: attrs>=19.3.0 in d:\\data science\\customer churn prediction with mlops\\myenv\\lib\\site-packages (from visions<0.8.0,>=0.7.5->visions[type_image_path]<0.8.0,>=0.7.5->ydata_profiling) (25.1.0)\n",
      "Collecting networkx>=2.4 (from visions<0.8.0,>=0.7.5->visions[type_image_path]<0.8.0,>=0.7.5->ydata_profiling)\n",
      "  Downloading networkx-3.4.2-py3-none-any.whl.metadata (6.3 kB)\n",
      "Requirement already satisfied: six>=1.5 in d:\\data science\\customer churn prediction with mlops\\myenv\\lib\\site-packages (from python-dateutil>=2.7->matplotlib>=3.5->ydata_profiling) (1.17.0)\n",
      "Downloading ydata_profiling-4.12.2-py2.py3-none-any.whl (390 kB)\n",
      "   ---------------------------------------- 0.0/390.9 kB ? eta -:--:--\n",
      "   --------------------------------------- 390.9/390.9 kB 11.9 MB/s eta 0:00:00\n",
      "Using cached ImageHash-4.3.1-py2.py3-none-any.whl (296 kB)\n",
      "Downloading dacite-1.9.2-py3-none-any.whl (16 kB)\n",
      "Using cached multimethod-1.12-py3-none-any.whl (10 kB)\n",
      "Using cached phik-0.12.4-cp311-cp311-win_amd64.whl (667 kB)\n",
      "Using cached seaborn-0.13.2-py3-none-any.whl (294 kB)\n",
      "Downloading statsmodels-0.14.4-cp311-cp311-win_amd64.whl (9.9 MB)\n",
      "   ---------------------------------------- 0.0/9.9 MB ? eta -:--:--\n",
      "   -- ------------------------------------- 0.5/9.9 MB 11.3 MB/s eta 0:00:01\n",
      "   ---- ----------------------------------- 1.1/9.9 MB 11.2 MB/s eta 0:00:01\n",
      "   ------ --------------------------------- 1.6/9.9 MB 11.0 MB/s eta 0:00:01\n",
      "   ------ --------------------------------- 1.6/9.9 MB 11.0 MB/s eta 0:00:01\n",
      "   ------ --------------------------------- 1.6/9.9 MB 11.0 MB/s eta 0:00:01\n",
      "   -------- ------------------------------- 2.2/9.9 MB 7.8 MB/s eta 0:00:01\n",
      "   ------------- -------------------------- 3.4/9.9 MB 10.2 MB/s eta 0:00:01\n",
      "   ---------------- ----------------------- 3.9/9.9 MB 10.5 MB/s eta 0:00:01\n",
      "   ------------------ --------------------- 4.5/9.9 MB 10.6 MB/s eta 0:00:01\n",
      "   -------------------- ------------------- 5.1/9.9 MB 10.8 MB/s eta 0:00:01\n",
      "   ---------------------- ----------------- 5.6/9.9 MB 10.9 MB/s eta 0:00:01\n",
      "   ------------------------- -------------- 6.2/9.9 MB 10.9 MB/s eta 0:00:01\n",
      "   ------------------------- -------------- 6.3/9.9 MB 11.2 MB/s eta 0:00:01\n",
      "   ------------------------- -------------- 6.3/9.9 MB 11.2 MB/s eta 0:00:01\n",
      "   -------------------------- ------------- 6.5/9.9 MB 9.5 MB/s eta 0:00:01\n",
      "   ------------------------------- -------- 7.9/9.9 MB 10.5 MB/s eta 0:00:01\n",
      "   ------------------------------------ --- 9.0/9.9 MB 11.5 MB/s eta 0:00:01\n",
      "   -------------------------------------- - 9.5/9.9 MB 11.5 MB/s eta 0:00:01\n",
      "   ---------------------------------------  9.9/9.9 MB 11.5 MB/s eta 0:00:01\n",
      "   ---------------------------------------- 9.9/9.9 MB 11.0 MB/s eta 0:00:00\n",
      "Using cached typeguard-4.4.1-py3-none-any.whl (35 kB)\n",
      "Using cached visions-0.7.6-py3-none-any.whl (104 kB)\n",
      "Downloading wordcloud-1.9.4-cp311-cp311-win_amd64.whl (299 kB)\n",
      "   ---------------------------------------- 0.0/299.9 kB ? eta -:--:--\n",
      "   ---------------------------------------- 299.9/299.9 kB 9.3 MB/s eta 0:00:00\n",
      "Downloading networkx-3.4.2-py3-none-any.whl (1.7 MB)\n",
      "   ---------------------------------------- 0.0/1.7 MB ? eta -:--:--\n",
      "   --------- ------------------------------ 0.4/1.7 MB 11.8 MB/s eta 0:00:01\n",
      "   --------- ------------------------------ 0.4/1.7 MB 11.8 MB/s eta 0:00:01\n",
      "   --------- ------------------------------ 0.4/1.7 MB 11.8 MB/s eta 0:00:01\n",
      "   ------------ --------------------------- 0.6/1.7 MB 3.5 MB/s eta 0:00:01\n",
      "   ------------------------ --------------- 1.1/1.7 MB 4.8 MB/s eta 0:00:01\n",
      "   ---------------------------------------- 1.7/1.7 MB 6.4 MB/s eta 0:00:00\n",
      "Downloading patsy-1.0.1-py2.py3-none-any.whl (232 kB)\n",
      "   ---------------------------------------- 0.0/232.9 kB ? eta -:--:--\n",
      "   --------------------------------------- 232.9/232.9 kB 14.8 MB/s eta 0:00:00\n",
      "Downloading pywavelets-1.8.0-cp311-cp311-win_amd64.whl (4.2 MB)\n",
      "   ---------------------------------------- 0.0/4.2 MB ? eta -:--:--\n",
      "   ----- ---------------------------------- 0.6/4.2 MB 11.8 MB/s eta 0:00:01\n",
      "   ----------- ---------------------------- 1.2/4.2 MB 12.5 MB/s eta 0:00:01\n",
      "   ---------------- ----------------------- 1.7/4.2 MB 12.3 MB/s eta 0:00:01\n",
      "   ---------------- ----------------------- 1.7/4.2 MB 12.3 MB/s eta 0:00:01\n",
      "   ---------------- ----------------------- 1.7/4.2 MB 12.3 MB/s eta 0:00:01\n",
      "   ---------------- ----------------------- 1.7/4.2 MB 12.3 MB/s eta 0:00:01\n",
      "   ---------------- ----------------------- 1.7/4.2 MB 12.3 MB/s eta 0:00:01\n",
      "   ------------------ --------------------- 2.0/4.2 MB 5.4 MB/s eta 0:00:01\n",
      "   ------------------ --------------------- 2.0/4.2 MB 5.4 MB/s eta 0:00:01\n",
      "   ------------------ --------------------- 2.0/4.2 MB 5.4 MB/s eta 0:00:01\n",
      "   --------------------------- ------------ 2.9/4.2 MB 5.6 MB/s eta 0:00:01\n",
      "   -------------------------------------- - 4.1/4.2 MB 7.2 MB/s eta 0:00:01\n",
      "   ---------------------------------------- 4.2/4.2 MB 7.3 MB/s eta 0:00:00\n",
      "Installing collected packages: htmlmin, typeguard, PyWavelets, patsy, networkx, multimethod, dacite, imagehash, wordcloud, visions, statsmodels, seaborn, phik, ydata_profiling\n",
      "  Attempting uninstall: dacite\n",
      "    Found existing installation: dacite 1.6.0\n",
      "    Uninstalling dacite-1.6.0:\n",
      "      Successfully uninstalled dacite-1.6.0\n",
      "Successfully installed PyWavelets-1.8.0 dacite-1.9.2 htmlmin-0.1.12 imagehash-4.3.1 multimethod-1.12 networkx-3.4.2 patsy-1.0.1 phik-0.12.4 seaborn-0.13.2 statsmodels-0.14.4 typeguard-4.4.1 visions-0.7.6 wordcloud-1.9.4 ydata_profiling-4.12.2\n"
     ]
    },
    {
     "name": "stderr",
     "output_type": "stream",
     "text": [
      "ERROR: pip's dependency resolver does not currently take into account all the packages that are installed. This behaviour is the source of the following dependency conflicts.\n",
      "dagshub 0.5.3 requires dacite~=1.6.0, but you have dacite 1.9.2 which is incompatible.\n",
      "\n",
      "[notice] A new release of pip is available: 24.0 -> 25.0\n",
      "[notice] To update, run: python.exe -m pip install --upgrade pip\n"
     ]
    }
   ],
   "source": [
    "!pip install ydata_profiling"
   ]
  },
  {
   "cell_type": "code",
   "execution_count": 12,
   "metadata": {},
   "outputs": [
    {
     "name": "stderr",
     "output_type": "stream",
     "text": [
      "d:\\Data Science\\Customer Churn Prediction with MLOps\\myenv\\Lib\\site-packages\\tqdm\\auto.py:21: TqdmWarning: IProgress not found. Please update jupyter and ipywidgets. See https://ipywidgets.readthedocs.io/en/stable/user_install.html\n",
      "  from .autonotebook import tqdm as notebook_tqdm\n",
      "C:\\Users\\ASUS\\AppData\\Local\\Temp\\ipykernel_43748\\627614751.py:1: DeprecationWarning: `import pandas_profiling` is going to be deprecated by April 1st. Please use `import ydata_profiling` instead.\n",
      "  from pandas_profiling import ProfileReport\n",
      "Summarize dataset: 100%|██████████| 49/49 [00:03<00:00, 13.09it/s, Completed]                                                     \n",
      "Generate report structure: 100%|██████████| 1/1 [00:03<00:00,  3.29s/it]\n",
      "Render HTML: 100%|██████████| 1/1 [00:01<00:00,  1.13s/it]\n",
      "Export report to file: 100%|██████████| 1/1 [00:00<00:00, 121.15it/s]\n"
     ]
    }
   ],
   "source": [
    "from pandas_profiling import ProfileReport\n",
    "# from ydata_profiling import ProfileReport\n",
    "prof = ProfileReport(df,explorative=True)\n",
    "prof.to_file(output_file='output.html')"
   ]
  },
  {
   "cell_type": "code",
   "execution_count": 1,
   "metadata": {},
   "outputs": [
    {
     "name": "stdout",
     "output_type": "stream",
     "text": [
      "Train file exists: False\n",
      "Test file exists: False\n"
     ]
    }
   ],
   "source": [
    "import os\n",
    "\n",
    "train_path = \"artifacts/model_trainer/train.csv\"\n",
    "test_path = \"artifacts/model_trainer/test.csv\"\n",
    "\n",
    "print(\"Train file exists:\", os.path.exists(train_path))\n",
    "print(\"Test file exists:\", os.path.exists(test_path))\n"
   ]
  },
  {
   "cell_type": "code",
   "execution_count": null,
   "metadata": {},
   "outputs": [],
   "source": []
  }
 ],
 "metadata": {
  "kernelspec": {
   "display_name": "myenv",
   "language": "python",
   "name": "python3"
  },
  "language_info": {
   "codemirror_mode": {
    "name": "ipython",
    "version": 3
   },
   "file_extension": ".py",
   "mimetype": "text/x-python",
   "name": "python",
   "nbconvert_exporter": "python",
   "pygments_lexer": "ipython3",
   "version": "3.11.8"
  }
 },
 "nbformat": 4,
 "nbformat_minor": 2
}
